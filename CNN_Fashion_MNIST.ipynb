{
  "nbformat": 4,
  "nbformat_minor": 0,
  "metadata": {
    "colab": {
      "provenance": [],
      "include_colab_link": true
    },
    "kernelspec": {
      "name": "python3",
      "display_name": "Python 3"
    },
    "accelerator": "TPU"
  },
  "cells": [
    {
      "cell_type": "markdown",
      "metadata": {
        "id": "view-in-github",
        "colab_type": "text"
      },
      "source": [
        "<a href=\"https://colab.research.google.com/github/Akash-verma998/tensor2.0/blob/main/CNN_Fashion_MNIST.ipynb\" target=\"_parent\"><img src=\"https://colab.research.google.com/assets/colab-badge.svg\" alt=\"Open In Colab\"/></a>"
      ]
    },
    {
      "cell_type": "markdown",
      "metadata": {
        "id": "hMY_MVkEVvVk"
      },
      "source": [
        "**Convolutional Neural Network Implementation in TensorFlow 2.0**"
      ]
    },
    {
      "cell_type": "markdown",
      "metadata": {
        "id": "PW5pXrr6Xl9y"
      },
      "source": [
        "![Convolutional Neural Network Architecture](https://miro.medium.com/max/2510/1*vkQ0hXDaQv57sALXAJquxA.jpeg)"
      ]
    },
    {
      "cell_type": "markdown",
      "metadata": {
        "id": "UHB_vwWVXrZj"
      },
      "source": [
        "**About the dataset**\n",
        "\n"
      ]
    },
    {
      "cell_type": "markdown",
      "metadata": {
        "id": "OeYuWEjfe9RM"
      },
      "source": [
        "Let us implement a simple convolutional neural network using TensorFlow 2.0. For this, we will make use of the Fashion MNIST dataset by Zalando (MIT License) which contains 70,000 images (in grayscale) in 10 different categories. The images are 28x28 pixels of individual articles of clothing with values ranging from 0 to 255 as shown below:"
      ]
    },
    {
      "cell_type": "markdown",
      "metadata": {
        "id": "seckBTs0fE95"
      },
      "source": [
        "![Fashion MNIST dataset](https://raw.githubusercontent.com/zalandoresearch/fashion-mnist/master/doc/img/fashion-mnist-sprite.png)"
      ]
    },
    {
      "cell_type": "markdown",
      "metadata": {
        "id": "J7RC1ya2fXs8"
      },
      "source": [
        "Out of the total 70,000 images, 60,000 are used for training and remaining 10,000 for testing. The labels are integer arrays ranging from 0 to 9. The class names are not a part of the dataset and hence we need to include the below mapping while training/prediction:"
      ]
    },
    {
      "cell_type": "markdown",
      "metadata": {
        "id": "gH1CpmcSfdHp"
      },
      "source": [
        "Label\t-> Description\n",
        "\n",
        "0\t-> T-shirt/top\n",
        "\n",
        "1\t-> Trouser\n",
        "\n",
        "2\t-> Pullover\n",
        "\n",
        "3\t-> Dress\n",
        "\n",
        "4\t-> Coat\n",
        "\n",
        "5\t-> Sandal\n",
        "\n",
        "6\t-> Shirt\n",
        "\n",
        "7\t-> Sneaker\n",
        "\n",
        "8\t-> Bag\n",
        "\n",
        "9\t-> Ankle boot\n"
      ]
    },
    {
      "cell_type": "code",
      "metadata": {
        "id": "56Q51QeJknFy"
      },
      "source": [
        "# Create class_names list object for mapping labels to names\n",
        "\n",
        "class_names = ['T-shirt/top', 'Trouser', 'Pullover', 'Dress', 'Coat', 'Sandal', 'Shirt', 'Sneaker', 'Bag', 'Ankle boot']"
      ],
      "execution_count": 1,
      "outputs": []
    },
    {
      "cell_type": "code",
      "metadata": {
        "id": "dnX3qP7aDc9_",
        "colab": {
          "base_uri": "https://localhost:8080/"
        },
        "outputId": "3006d956-26cb-49a7-853b-d4526600356a"
      },
      "source": [
        "# Use the below code to make sure that you select TensorFlow 2.0 in Colab\n",
        "try:\n",
        "  %tensorflow_version 2.x\n",
        "except Exception:\n",
        "  pass"
      ],
      "execution_count": 2,
      "outputs": [
        {
          "output_type": "stream",
          "name": "stdout",
          "text": [
            "Colab only includes TensorFlow 2.x; %tensorflow_version has no effect.\n"
          ]
        }
      ]
    },
    {
      "cell_type": "code",
      "metadata": {
        "id": "WIb3JAnDDNng",
        "colab": {
          "base_uri": "https://localhost:8080/"
        },
        "outputId": "7dfbd0b2-4c53-4b7b-9cf2-d9e05c00b563"
      },
      "source": [
        "# Install necessary modules\n",
        "\n",
        "from __future__ import absolute_import, division, print_function, unicode_literals\n",
        "\n",
        "# Helper libraries\n",
        "import numpy as np\n",
        "\n",
        "# TensorFlow and tf.keras\n",
        "import tensorflow as tf\n",
        "from tensorflow import keras as ks\n",
        "\n",
        "# Validating the TensorFlow version\n",
        "print(tf.__version__)"
      ],
      "execution_count": 3,
      "outputs": [
        {
          "output_type": "stream",
          "name": "stdout",
          "text": [
            "2.12.0\n"
          ]
        }
      ]
    },
    {
      "cell_type": "code",
      "metadata": {
        "id": "3LNPDWFrDWyf",
        "colab": {
          "base_uri": "https://localhost:8080/"
        },
        "outputId": "e48c1042-0ef7-46e1-b089-4f643f4a36ca"
      },
      "source": [
        "# Load the Fashion MNIST dataset\n",
        "\n",
        "mnist_fashion = ks.datasets.fashion_mnist\n",
        "\n",
        "(training_images, training_labels), (test_images, test_labels) = mnist_fashion.load_data()"
      ],
      "execution_count": 4,
      "outputs": [
        {
          "output_type": "stream",
          "name": "stdout",
          "text": [
            "Downloading data from https://storage.googleapis.com/tensorflow/tf-keras-datasets/train-labels-idx1-ubyte.gz\n",
            "29515/29515 [==============================] - 0s 0us/step\n",
            "Downloading data from https://storage.googleapis.com/tensorflow/tf-keras-datasets/train-images-idx3-ubyte.gz\n",
            "26421880/26421880 [==============================] - 1s 0us/step\n",
            "Downloading data from https://storage.googleapis.com/tensorflow/tf-keras-datasets/t10k-labels-idx1-ubyte.gz\n",
            "5148/5148 [==============================] - 0s 0us/step\n",
            "Downloading data from https://storage.googleapis.com/tensorflow/tf-keras-datasets/t10k-images-idx3-ubyte.gz\n",
            "4422102/4422102 [==============================] - 0s 0us/step\n"
          ]
        }
      ]
    },
    {
      "cell_type": "markdown",
      "metadata": {
        "id": "u_Fhp6IClLn8"
      },
      "source": [
        "**Data Exploration**"
      ]
    },
    {
      "cell_type": "code",
      "metadata": {
        "id": "IhMQlj4yD1Gw",
        "colab": {
          "base_uri": "https://localhost:8080/"
        },
        "outputId": "8e3e49c2-3fcf-49ee-d732-00d3f7c08c0e"
      },
      "source": [
        "# Shape of Training and Test Set\n",
        "\n",
        "print('Training Dataset Shape: {}'.format(training_images.shape))\n",
        "print('No. of Training Dataset Labels: {}'.format(len(training_labels)))\n",
        "print('Test Dataset Shape: {}'.format(test_images.shape))\n",
        "print('No. of Test Dataset Labels: {}'.format(len(test_labels)))"
      ],
      "execution_count": 5,
      "outputs": [
        {
          "output_type": "stream",
          "name": "stdout",
          "text": [
            "Training Dataset Shape: (60000, 28, 28)\n",
            "No. of Training Dataset Labels: 60000\n",
            "Test Dataset Shape: (10000, 28, 28)\n",
            "No. of Test Dataset Labels: 10000\n"
          ]
        }
      ]
    },
    {
      "cell_type": "markdown",
      "metadata": {
        "id": "ckCUKXUbl22y"
      },
      "source": [
        "**Data Preprocessing**"
      ]
    },
    {
      "cell_type": "markdown",
      "metadata": {
        "id": "mTt1pqz0l6tp"
      },
      "source": [
        "As the pixel values range from 0 to 255, we have to scale these values to a range of 0 to 1 before feeding them to the model. We can scale these values (both for training and test datasets) by dividing the values by 255:"
      ]
    },
    {
      "cell_type": "code",
      "metadata": {
        "id": "DMZ1yl8FEI_n"
      },
      "source": [
        "training_images = training_images / 255.0\n",
        "\n",
        "test_images = test_images / 255.0"
      ],
      "execution_count": 6,
      "outputs": []
    },
    {
      "cell_type": "markdown",
      "metadata": {
        "id": "_DgRCQuVuI3r"
      },
      "source": [
        "Reshaping the Training and Test dataset by reshaping the matrices into 28x28x1 array:"
      ]
    },
    {
      "cell_type": "code",
      "metadata": {
        "id": "uzyJ3LzLI2dK"
      },
      "source": [
        "training_images = training_images.reshape((60000, 28, 28, 1))\n",
        "test_images = test_images.reshape((10000, 28, 28, 1))"
      ],
      "execution_count": 7,
      "outputs": []
    },
    {
      "cell_type": "code",
      "metadata": {
        "id": "era6idKR2a08",
        "colab": {
          "base_uri": "https://localhost:8080/"
        },
        "outputId": "b9c56700-8bae-4871-d419-23e996557160"
      },
      "source": [
        "# Shape of Training and Test Set after applying reshape\n",
        "\n",
        "print('Training Dataset Shape: {}'.format(training_images.shape))\n",
        "print('No. of Training Dataset Labels: {}'.format(len(training_labels)))\n",
        "print('Test Dataset Shape: {}'.format(test_images.shape))\n",
        "print('No. of Test Dataset Labels: {}'.format(len(test_labels)))"
      ],
      "execution_count": 8,
      "outputs": [
        {
          "output_type": "stream",
          "name": "stdout",
          "text": [
            "Training Dataset Shape: (60000, 28, 28, 1)\n",
            "No. of Training Dataset Labels: 60000\n",
            "Test Dataset Shape: (10000, 28, 28, 1)\n",
            "No. of Test Dataset Labels: 10000\n"
          ]
        }
      ]
    },
    {
      "cell_type": "markdown",
      "metadata": {
        "id": "miCPDg1uvD8z"
      },
      "source": [
        "**Model Building**"
      ]
    },
    {
      "cell_type": "markdown",
      "metadata": {
        "id": "NKp_6degvwnX"
      },
      "source": [
        "We will be using the keras implementation to build the different layers of a CNN. We will keep it simple by having only 2 layers.\n",
        "\n",
        "**First Layer - Convolutional layer with ReLU activation function:** This layer takes the 2D array (28x28 pixels) as input. We will take 50 convolutional kernels (filters) of shape 3x3 pixels, output of whose will be passed to a ReLU activation function before it is passed to the next layer."
      ]
    },
    {
      "cell_type": "code",
      "metadata": {
        "id": "oMLYMBi8EQUj"
      },
      "source": [
        "cnn_model = ks.models.Sequential()\n",
        "cnn_model.add(ks.layers.Conv2D(40, (3, 3), activation='relu', input_shape=(28, 28, 1), name='Convolutional_layer'))"
      ],
      "execution_count": 9,
      "outputs": []
    },
    {
      "cell_type": "markdown",
      "metadata": {
        "id": "ToKE6u4p0ZuM"
      },
      "source": [
        "**Second Layer - Pooling layer:** This layer takes the 50 26x26 2D arrays as input and transforms them into the same number (50) of arrays with dimensions half of that of the original (i.e. from 26x26 to 13x13 pixels)"
      ]
    },
    {
      "cell_type": "code",
      "metadata": {
        "id": "M_iucfrP0YsY"
      },
      "source": [
        "cnn_model.add(ks.layers.MaxPooling2D((2, 2), name='Maxpooling_2D'))"
      ],
      "execution_count": 10,
      "outputs": []
    },
    {
      "cell_type": "markdown",
      "metadata": {
        "id": "8F9uYCt9irik"
      },
      "source": [
        "**Third Layer - Fully Connected layer:** This layer takes the 50 13x13 2D arrays as input and transforms them into a 1D array of 8450 elements (50x13x13). These 8450 input elements are passed through a fully connected neural network which gives out the probability scores for each of the 10 output labels (at the output layer)"
      ]
    },
    {
      "cell_type": "code",
      "metadata": {
        "id": "FS9L_8kTFRz4"
      },
      "source": [
        "cnn_model.add(ks.layers.Flatten(name='Flatten'))\n",
        "cnn_model.add(ks.layers.Dense(50, activation='relu', name='Hidden_layer'))\n",
        "cnn_model.add(ks.layers.Dense(10, activation='softmax', name='Output_layer'))"
      ],
      "execution_count": 11,
      "outputs": []
    },
    {
      "cell_type": "markdown",
      "metadata": {
        "id": "ZBL5QRdJj8yG"
      },
      "source": [
        "We can check the details of different layers built in the CNN model by using the summary method as shown below:"
      ]
    },
    {
      "cell_type": "code",
      "metadata": {
        "id": "Paa3H8AmFYjP",
        "colab": {
          "base_uri": "https://localhost:8080/"
        },
        "outputId": "ad8a8b9c-31c5-4625-f320-f66e28da8332"
      },
      "source": [
        "cnn_model.summary()"
      ],
      "execution_count": 12,
      "outputs": [
        {
          "output_type": "stream",
          "name": "stdout",
          "text": [
            "Model: \"sequential\"\n",
            "_________________________________________________________________\n",
            " Layer (type)                Output Shape              Param #   \n",
            "=================================================================\n",
            " Convolutional_layer (Conv2D  (None, 26, 26, 40)       400       \n",
            " )                                                               \n",
            "                                                                 \n",
            " Maxpooling_2D (MaxPooling2D  (None, 13, 13, 40)       0         \n",
            " )                                                               \n",
            "                                                                 \n",
            " Flatten (Flatten)           (None, 6760)              0         \n",
            "                                                                 \n",
            " Hidden_layer (Dense)        (None, 50)                338050    \n",
            "                                                                 \n",
            " Output_layer (Dense)        (None, 10)                510       \n",
            "                                                                 \n",
            "=================================================================\n",
            "Total params: 338,960\n",
            "Trainable params: 338,960\n",
            "Non-trainable params: 0\n",
            "_________________________________________________________________\n"
          ]
        }
      ]
    },
    {
      "cell_type": "markdown",
      "metadata": {
        "id": "Tcp73o-7lkfo"
      },
      "source": [
        "Now, we will use an optimization function with the help of compile method. An Adam optimizer with objective function as sparse_categorical_crossentropy which optimzes for the accuracy metric can be built as follows:"
      ]
    },
    {
      "cell_type": "code",
      "metadata": {
        "id": "o_fyxXveFagh"
      },
      "source": [
        "cnn_model.compile(optimizer='adam', loss='sparse_categorical_crossentropy', metrics=['accuracy'])"
      ],
      "execution_count": 13,
      "outputs": []
    },
    {
      "cell_type": "markdown",
      "metadata": {
        "id": "ISBAFVg5mYtz"
      },
      "source": [
        "**Model Training**"
      ]
    },
    {
      "cell_type": "code",
      "metadata": {
        "id": "_irVQYjSmX7G",
        "colab": {
          "base_uri": "https://localhost:8080/"
        },
        "outputId": "847cff6f-f2cc-4b00-89d1-0fdd799127eb"
      },
      "source": [
        "cnn_model.fit(training_images, training_labels, epochs=10)"
      ],
      "execution_count": 14,
      "outputs": [
        {
          "output_type": "stream",
          "name": "stdout",
          "text": [
            "Epoch 1/10\n",
            "1875/1875 [==============================] - 46s 24ms/step - loss: 0.4169 - accuracy: 0.8543\n",
            "Epoch 2/10\n",
            "1875/1875 [==============================] - 45s 24ms/step - loss: 0.2873 - accuracy: 0.8967\n",
            "Epoch 3/10\n",
            "1875/1875 [==============================] - 46s 25ms/step - loss: 0.2458 - accuracy: 0.9113\n",
            "Epoch 4/10\n",
            "1875/1875 [==============================] - 45s 24ms/step - loss: 0.2135 - accuracy: 0.9215\n",
            "Epoch 5/10\n",
            "1875/1875 [==============================] - 45s 24ms/step - loss: 0.1898 - accuracy: 0.9307\n",
            "Epoch 6/10\n",
            "1875/1875 [==============================] - 44s 24ms/step - loss: 0.1692 - accuracy: 0.9378\n",
            "Epoch 7/10\n",
            "1875/1875 [==============================] - 44s 24ms/step - loss: 0.1505 - accuracy: 0.9448\n",
            "Epoch 8/10\n",
            "1875/1875 [==============================] - 47s 25ms/step - loss: 0.1355 - accuracy: 0.9495\n",
            "Epoch 9/10\n",
            "1875/1875 [==============================] - 47s 25ms/step - loss: 0.1205 - accuracy: 0.9555\n",
            "Epoch 10/10\n",
            "1875/1875 [==============================] - 44s 23ms/step - loss: 0.1083 - accuracy: 0.9608\n"
          ]
        },
        {
          "output_type": "execute_result",
          "data": {
            "text/plain": [
              "<keras.callbacks.History at 0x7bccf4f0b970>"
            ]
          },
          "metadata": {},
          "execution_count": 14
        }
      ]
    },
    {
      "cell_type": "markdown",
      "metadata": {
        "id": "BXA1brtrmgdI"
      },
      "source": [
        "**Model Evaluation**\n",
        "\n",
        "1. Training Evaluation"
      ]
    },
    {
      "cell_type": "code",
      "metadata": {
        "id": "bRISUog8RNJF",
        "colab": {
          "base_uri": "https://localhost:8080/"
        },
        "outputId": "8d9274af-1541-432b-f199-f5d72b19ac91"
      },
      "source": [
        "training_loss, training_accuracy = cnn_model.evaluate(training_images, training_labels)\n",
        "\n",
        "print('Training Accuracy {}'.format(round(float(training_accuracy), 2)))"
      ],
      "execution_count": 15,
      "outputs": [
        {
          "output_type": "stream",
          "name": "stdout",
          "text": [
            "1875/1875 [==============================] - 16s 8ms/step - loss: 0.0869 - accuracy: 0.9693\n",
            "Training Accuracy 0.97\n"
          ]
        }
      ]
    },
    {
      "cell_type": "markdown",
      "metadata": {
        "id": "sL_6AuJomqel"
      },
      "source": [
        "2. Test Evaluation"
      ]
    },
    {
      "cell_type": "code",
      "metadata": {
        "id": "2KNIAUSEFgPO",
        "colab": {
          "base_uri": "https://localhost:8080/"
        },
        "outputId": "e33f6274-079e-4824-e6df-fe12607aee63"
      },
      "source": [
        "test_loss, test_accuracy = cnn_model.evaluate(test_images, test_labels)\n",
        "\n",
        "print('Test Accuracy {}'.format(round(float(test_accuracy), 2)))"
      ],
      "execution_count": 16,
      "outputs": [
        {
          "output_type": "stream",
          "name": "stdout",
          "text": [
            "313/313 [==============================] - 3s 10ms/step - loss: 0.2898 - accuracy: 0.9118\n",
            "Test Accuracy 0.91\n"
          ]
        }
      ]
    },
    {
      "cell_type": "markdown",
      "metadata": {
        "id": "do51fxgtnOh7"
      },
      "source": [
        "From the above evaluation, we see that we were able to achieve around 97% accuracy in Training dataset and around 91% accuracy in Test dataset just with a simple CNN architecture. This goes on to prove that CNNs are powerful algorithms for Image recognition."
      ]
    }
  ]
}